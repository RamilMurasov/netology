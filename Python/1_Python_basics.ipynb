{
 "cells": [
  {
   "cell_type": "markdown",
   "metadata": {},
   "source": [
    "## Задание 1"
   ]
  },
  {
   "cell_type": "code",
   "execution_count": 5,
   "metadata": {},
   "outputs": [
    {
     "name": "stdout",
     "output_type": "stream",
     "text": [
      "Фразы равной длины\n"
     ]
    }
   ],
   "source": [
    "phrase_1 = 'Насколько проще было бы'\n",
    "phrase_2 = 'Насколько проще было бы'\n",
    "if len(phrase_1) > len(phrase_2):\n",
    "    print('Фраза 1 длинее фразы 2')\n",
    "elif len(phrase_1) < len(phrase_2):\n",
    "    print('Фраза 2 длинее фразы 1')\n",
    "elif len(phrase_1) == len(phrase_2):\n",
    "    print('Фразы равной длины')"
   ]
  },
  {
   "cell_type": "markdown",
   "metadata": {},
   "source": [
    "## Задание 2 "
   ]
  },
  {
   "cell_type": "code",
   "execution_count": 132,
   "metadata": {},
   "outputs": [
    {
     "name": "stdout",
     "output_type": "stream",
     "text": [
      "Введите год: 2000\n",
      "2000 год - високосный!\n"
     ]
    }
   ],
   "source": [
    "year = int(input('Введите год: '))\n",
    "\n",
    "if (year % 4 == 0 and year % 400 == 0) or (year % 400 == 0 and year % 100 == 0) or (year % 4 == 0 and year % 400 != 0 and  year % 100 != 0):\n",
    "    print(year ,'год - високосный!')\n",
    "else:\n",
    "    print(year ,'год - невисокосный!')"
   ]
  },
  {
   "cell_type": "markdown",
   "metadata": {},
   "source": [
    "## Задание 3"
   ]
  },
  {
   "cell_type": "code",
   "execution_count": 61,
   "metadata": {},
   "outputs": [
    {
     "name": "stdout",
     "output_type": "stream",
     "text": [
      "Введите день рождения: 10\n",
      "Введите месяц рождения: январь\n",
      "Ваш знак зодиака - КОЗЕРОГ\n"
     ]
    }
   ],
   "source": [
    "day = int(input('Введите день рождения: '))\n",
    "month = input('Введите месяц рождения: ')\n",
    "\n",
    "if (day >= 21 and day <= 31 and month == 'март') or (day >= 1 and day <= 19 and month == 'апрель'):\n",
    "    print('Ваш знак зодиака - ОВЕН')\n",
    "elif (day >= 20 and day <= 30 and month == 'апрель') or (day >= 1 and day <= 20 and month == 'май'):\n",
    "        print('Ваш знак зодиака - ТЕЛЕЦ')\n",
    "elif (day >= 21 and day <= 31 and month == 'май') or (day >= 1 and day <= 21 and month == 'июнь'):\n",
    "        print('Ваш знак зодиака - БЛИЗНЕЦЫ')\n",
    "elif (day >= 22 and day <= 30 and month == 'июнь') or (day >= 1 and day <= 22 and month == 'июль'):\n",
    "        print('Ваш знак зодиака - РАК')\n",
    "elif (day >= 23 and day <= 31 and month == 'июль') or (day >= 1 and day <= 22 and month == 'август'):\n",
    "        print('Ваш знак зодиака - ЛЕВ')\n",
    "elif (day >= 23 and day <= 31 and month == 'август') or (day >= 1 and day <= 22 and month == 'сентябрь'):\n",
    "        print('Ваш знак зодиака - ДЕВА')\n",
    "elif (day >= 23 and day <= 30 and month == 'сентябрь') or (day >= 1 and day <= 23 and month == 'октябрь'):\n",
    "        print('Ваш знак зодиака - ВЕСЫ')\n",
    "elif (day >= 24 and day <= 31 and month == 'октябрь') or (day >= 1 and day <= 22 and month == 'ноябрь'):\n",
    "        print('Ваш знак зодиака - СКОРПИОН')\n",
    "elif (day >= 23 and day <= 30 and month == 'ноябрь') or (day >= 1 and day <= 21 and month == 'декабрь'):\n",
    "        print('Ваш знак зодиака - СТРЕЛЕЦ')\n",
    "elif (day >= 22 and day <= 31 and month == 'декабрь') or (day >= 1 and day <= 20 and month == 'январь'):\n",
    "        print('Ваш знак зодиака - КОЗЕРОГ')\n",
    "elif (day >= 21 and day <= 31 and month == 'январь') or (day >= 1 and day <= 18 and month == 'февраль'):\n",
    "        print('Ваш знак зодиака - ВОДОЛЕЙ')\n",
    "elif (day >= 19 and day <= 29 and month == 'февраль') or (day >= 1 and day <= 20 and month == 'март'):\n",
    "        print('Ваш знак зодиака - РЫБЫ')\n",
    "else:\n",
    "    print('Вы ввели неправильную дату или месяц')"
   ]
  },
  {
   "cell_type": "markdown",
   "metadata": {},
   "source": [
    "## Задание 4"
   ]
  },
  {
   "cell_type": "code",
   "execution_count": 12,
   "metadata": {},
   "outputs": [
    {
     "name": "stdout",
     "output_type": "stream",
     "text": [
      "Введите ширину коробки: 45\n",
      "Введите длину коробки: 205\n",
      "Введите высоту коробки: 45\n",
      "Упаковка для лыж\n"
     ]
    }
   ],
   "source": [
    "width = int(input('Введите ширину коробки: '))\n",
    "length = int(input('Введите длину коробки: '))\n",
    "height = int(input('Введите высоту коробки: '))\n",
    "if width <= 15 and length <= 15 and height <= 15:\n",
    "    print('Коробка №1')\n",
    "elif (15 < width < 50 and 15 < length < 50) or (15 < length < 50 and 15 < height < 50):\n",
    "    print('Коробка №2')\n",
    "elif length > 200:\n",
    "    print('Упаковка для лыж')\n",
    "else:\n",
    "    print('Стандартная коробка №3')"
   ]
  }
 ],
 "metadata": {
  "kernelspec": {
   "display_name": "Python 3",
   "language": "python",
   "name": "python3"
  },
  "language_info": {
   "codemirror_mode": {
    "name": "ipython",
    "version": 3
   },
   "file_extension": ".py",
   "mimetype": "text/x-python",
   "name": "python",
   "nbconvert_exporter": "python",
   "pygments_lexer": "ipython3",
   "version": "3.8.3"
  }
 },
 "nbformat": 4,
 "nbformat_minor": 4
}
